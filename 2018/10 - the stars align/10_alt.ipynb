{
 "cells": [
  {
   "cell_type": "markdown",
   "metadata": {},
   "source": [
    "# Day 10: The Stars Align"
   ]
  },
  {
   "cell_type": "markdown",
   "metadata": {},
   "source": [
    "Credit: https://www.reddit.com/r/adventofcode/comments/a4urh5/day_10_in_only_8_iterations_with_gradient_descent/"
   ]
  },
  {
   "cell_type": "code",
   "execution_count": 1,
   "metadata": {},
   "outputs": [],
   "source": [
    "import re\n",
    "import numpy as np\n",
    "import matplotlib.pyplot as plt\n",
    "import tensorflow as tf"
   ]
  },
  {
   "cell_type": "markdown",
   "metadata": {},
   "source": [
    "Read input"
   ]
  },
  {
   "cell_type": "code",
   "execution_count": 2,
   "metadata": {},
   "outputs": [],
   "source": [
    "with open('10_input.txt', 'r') as f:\n",
    "    lines = [[int(n) for n in re.findall('-?\\d+', line)] for line in f]"
   ]
  },
  {
   "cell_type": "code",
   "execution_count": 3,
   "metadata": {},
   "outputs": [
    {
     "name": "stdout",
     "output_type": "stream",
     "text": [
      "Number of points: 357\n"
     ]
    },
    {
     "data": {
      "text/plain": [
       "[[50769, -40375, -5, 4],\n",
       " [40697, 10253, -4, -1],\n",
       " [-40315, -50495, 4, 5],\n",
       " [-40296, -20123, 4, 2],\n",
       " [50760, -50499, -5, 5]]"
      ]
     },
     "execution_count": 3,
     "metadata": {},
     "output_type": "execute_result"
    }
   ],
   "source": [
    "print(\"Number of points:\", len(lines))\n",
    "lines[0:5]"
   ]
  },
  {
   "cell_type": "markdown",
   "metadata": {},
   "source": [
    "Set up the TF variables"
   ]
  },
  {
   "cell_type": "code",
   "execution_count": 4,
   "metadata": {},
   "outputs": [],
   "source": [
    "x = tf.constant(np.array(lines, dtype=np.float32))\n",
    "position = x[:, :2]\n",
    "velocity = x[:, 2:]\n",
    "time = tf.placeholder_with_default(tf.Variable(0.0), shape=[])\n",
    "projection = position + velocity * time"
   ]
  },
  {
   "cell_type": "markdown",
   "metadata": {},
   "source": [
    "Minimize the variance of the projection with respect to time"
   ]
  },
  {
   "cell_type": "code",
   "execution_count": 5,
   "metadata": {},
   "outputs": [],
   "source": [
    "_, variance = tf.nn.moments(projection, axes=[0])\n",
    "loss = tf.reduce_sum(variance)\n",
    "train_op = tf.train.GradientDescentOptimizer(0.02).minimize(loss)"
   ]
  },
  {
   "cell_type": "code",
   "execution_count": 6,
   "metadata": {},
   "outputs": [],
   "source": [
    "with tf.Session() as sess:\n",
    "    sess.run(tf.global_variables_initializer())\n",
    "    prev = None\n",
    "    while True:\n",
    "        _, l, t = sess.run([train_op, loss, time])\n",
    "        t = round(t)\n",
    "        l = round(l, 1)\n",
    "        if (t, l) == prev:\n",
    "            break\n",
    "        \n",
    "        prev = (t, l)\n",
    "    \n",
    "    result_proj = sess.run(projection, feed_dict={time: t}).astype(np.int32)"
   ]
  },
  {
   "cell_type": "markdown",
   "metadata": {},
   "source": [
    "Shift to projection to the origin of the coordinate system"
   ]
  },
  {
   "cell_type": "code",
   "execution_count": 7,
   "metadata": {},
   "outputs": [],
   "source": [
    "result_proj -= np.min(result_proj, axis=0)"
   ]
  },
  {
   "cell_type": "markdown",
   "metadata": {},
   "source": [
    "Show results"
   ]
  },
  {
   "cell_type": "code",
   "execution_count": 8,
   "metadata": {},
   "outputs": [
    {
     "name": "stdout",
     "output_type": "stream",
     "text": [
      "Part 1:\n"
     ]
    },
    {
     "data": {
      "image/png": "[encoded data removed]",
      "text/plain": [
       "<Figure size 432x288 with 1 Axes>"
      ]
     },
     "metadata": {
      "needs_background": "light"
     },
     "output_type": "display_data"
    },
    {
     "name": "stdout",
     "output_type": "stream",
     "text": [
      "Part 2: 10124\n"
     ]
    }
   ],
   "source": [
    "size = np.max(result_proj, axis=0) + 1\n",
    "im = np.zeros(size)\n",
    "for p in result_proj:\n",
    "    im[tuple(p)] += 1\n",
    "\n",
    "print(\"Part 1:\")\n",
    "plt.axis('off')\n",
    "plt.imshow(np.pad(im.T > 0, 5, 'constant'))\n",
    "plt.show()\n",
    "\n",
    "print(\"Part 2:\", int(t))"
   ]
  }
 ],
 "metadata": {
  "kernelspec": {
   "display_name": "Python 3",
   "language": "python",
   "name": "python3"
  },
  "language_info": {
   "codemirror_mode": {
    "name": "ipython",
    "version": 3
   },
   "file_extension": ".py",
   "mimetype": "text/x-python",
   "name": "python",
   "nbconvert_exporter": "python",
   "pygments_lexer": "ipython3",
   "version": "3.6.6"
  }
 },
 "nbformat": 4,
 "nbformat_minor": 2
}
